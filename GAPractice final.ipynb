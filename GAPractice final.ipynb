{
 "cells": [
  {
   "attachments": {},
   "cell_type": "markdown",
   "metadata": {},
   "source": [
    "# Práctica sobre algoritmos genéticos\n",
    "\n",
    "<img src=\"imgs/tren.jpg\">\n",
    "\n",
    "\n",
    "Un área ferroviaria de carga/descarga con una única vía de entrada y otra salida se compone de tres muelles de carga/descarga: Op1, Op2 y Op3, correspondientes a contenedores, carbón y gas. Por tanto, cada tren que llega se dirige a un muelle en función de su carga. Un tren tarda en cargar o descargar un tiempo proporcional al número de vagones que arrastra. Cada día llegan secuencialmente n trenes. Si los trenes son de cargas distintas, pueden entrar en paralelo a los muelles. Cuando dos trenes con el mismo tipo de carga se encuentran seguidos, el segundo debe esperar por el primero, así como todos los demás que se encuentren por detrás.\n",
    "\n",
    "\n",
    "Se nos plantea resolver, mediante un algoritmo genético, el problema de la ordenación en la entrada de los trenes para minimizar el tiempo de paso del conjunto de trenes.\n",
    "\n",
    "\n",
    "<img src=\"imgs/docks.jpg\" width=\"70%\">"
   ]
  },
  {
   "cell_type": "code",
   "execution_count": 17,
   "metadata": {},
   "outputs": [],
   "source": [
    "import random\n",
    "import numpy as np\n",
    "from deap import base, creator, tools, algorithms"
   ]
  },
  {
   "attachments": {},
   "cell_type": "markdown",
   "metadata": {},
   "source": [
    "## Trenes\n",
    "\n",
    "En el siguiente código, <code>random_trains_generation</code> genera los trenes que llegarán en un día. Cada ordenación diferente de este conjunto corresponderá con un **individuo** en nuestro eaquema de algoritmo genético."
   ]
  },
  {
   "cell_type": "code",
   "execution_count": 18,
   "metadata": {},
   "outputs": [],
   "source": [
    "import random\n",
    "from deap import base, creator, tools\n",
    "\n",
    "class Train:\n",
    "    def __init__(self, wagons, op, licence_plate):\n",
    "        self.wagons = wagons\n",
    "        self.op = op\n",
    "        self.licence_plate = licence_plate\n",
    "\n",
    "    def __str__(self):\n",
    "        return \"Número de vagones:\" + str(self.wagons) \\\n",
    "        + \"\\n\" + \"Muelle de operaciones:\" + str(self.op) \\\n",
    "        + \"\\n\" + \"Matrícula:\" + str(self.licence_plate)\n",
    "\n",
    "\n",
    "def random_trains_generation(n):\n",
    "\n",
    "    train_list = []\n",
    "    \n",
    "    for i in range(n):\n",
    "        wagons = random.randint(10, 30)  # Cada tren puede arrastrar entre 10 y 30 vagones\n",
    "        op = random.choice([\"op1\", \"op2\", \"op3\"])  # A cada tren se le asigna un tipo de carga\n",
    "        train_list.append(Train(wagons, op, i))\n",
    "\n",
    "    return train_list"
   ]
  },
  {
   "cell_type": "code",
   "execution_count": 19,
   "metadata": {},
   "outputs": [],
   "source": [
    "trains = random_trains_generation(100)\n",
    "def randomize_trains():\n",
    "    new_trains = trains[:]\n",
    "    random.shuffle(new_trains)\n",
    "    return new_trains\n",
    "\n",
    "#creamos una clase de tipo lista que implemente la funcion anterior y devuelva una lista de trenes aleatoria\n",
    "class Trains_list(list):\n",
    "    def __init__(self):\n",
    "        super().__init__(randomize_trains())"
   ]
  },
  {
   "cell_type": "code",
   "execution_count": 20,
   "metadata": {},
   "outputs": [
    {
     "name": "stderr",
     "output_type": "stream",
     "text": [
      "c:\\Users\\Gabri\\anaconda3\\lib\\site-packages\\deap\\creator.py:138: RuntimeWarning: A class named 'Fitness' has already been created and it will be overwritten. Consider deleting previous creation of that class or rename it.\n",
      "  warnings.warn(\"A class named '{0}' has already been created and it \"\n",
      "c:\\Users\\Gabri\\anaconda3\\lib\\site-packages\\deap\\creator.py:138: RuntimeWarning: A class named 'Individual' has already been created and it will be overwritten. Consider deleting previous creation of that class or rename it.\n",
      "  warnings.warn(\"A class named '{0}' has already been created and it \"\n"
     ]
    }
   ],
   "source": [
    "creator.create(\"Fitness\", base.Fitness, weights=(-1.0, )) \n",
    "creator.create(\"Individual\", Trains_list, fitness=creator.Fitness)"
   ]
  },
  {
   "cell_type": "code",
   "execution_count": 21,
   "metadata": {},
   "outputs": [],
   "source": [
    "toolbox = base.Toolbox()\n",
    "toolbox.register(\"individual\", creator.Individual)\n",
    "toolbox.register(\"population\", tools.initRepeat, list, toolbox.individual)"
   ]
  },
  {
   "cell_type": "code",
   "execution_count": 22,
   "metadata": {},
   "outputs": [],
   "source": [
    "def evaltrains(individual):\n",
    "    value = 0\n",
    "    time1 = 0\n",
    "    time2 = 0\n",
    "    time3 = 0\n",
    "    time_in1 = 0\n",
    "    time_in2 = 0\n",
    "    time_in3 = 0\n",
    "    op1_state = 0\n",
    "    op2_state = 0\n",
    "    op3_state = 0\n",
    "    for trains in individual:\n",
    "        wagons = trains.wagons\n",
    "        operation =  trains.op\n",
    "        # if op1_state == 0 or op2_state == 0 or op3_state == 0:\n",
    "        if operation == \"op1\" and time_in1 == 0:\n",
    "            time1 += wagons \n",
    "            #con lo de los diccionarios de mas abajo, \n",
    "            #si es 0, significaria libre asi que eso\n",
    "            #tiene mejor pinta\n",
    "            #op1_state = 1\n",
    "            time_in1 = wagons\n",
    "        elif operation == \"op2\" and time_in2 == 0:\n",
    "            time2 += wagons\n",
    "            #op2_state = 1\n",
    "            time_in2 = wagons\n",
    "        elif operation == \"op3\" and time_in3 == 0:\n",
    "            time3 += wagons\n",
    "            #op3_state = 1\n",
    "            time_in3 = wagons\n",
    "        # else:\n",
    "        elif operation == \"op1\" and time_in1 != 0:\n",
    "            time1 += time_in1\n",
    "            time_in1 = wagons\n",
    "            time_in2 -= time_in1\n",
    "            if time_in2 < 0:\n",
    "                time_in2 = 0\n",
    "            time_in3 -= time_in1\n",
    "            if time_in3 < 0:\n",
    "                time_in3 = 0\n",
    "        elif operation == \"op2\" and time_in2 != 0:\n",
    "            time2 += time_in2\n",
    "            time_in2 = wagons\n",
    "            time_in1 -= time_in2\n",
    "            if time_in1 < 0:\n",
    "                time_in1 = 0\n",
    "            time_in3 -= time_in2\n",
    "            if time_in3 < 0:\n",
    "                time_in3 = 0\n",
    "        elif operation == \"op3\" and time_in3 != 0:\n",
    "            time3 += time_in3\n",
    "            time_in3 = wagons\n",
    "            time_in2 -= time_in3\n",
    "            if time_in2 < 0:\n",
    "                time_in2 = 0\n",
    "            time_in1 -= time_in3\n",
    "            if time_in1 < 0:\n",
    "                time_in1 = 0\n",
    "        # else:\n",
    "        #     #esta parte en general no funciona bien\n",
    "        #     #prob mejor usar diccionario con cada operacion y su tiempo de espera?\n",
    "        #     lowest_time = min(time_in1, time_in2, time_in3)\n",
    "        #     time_in1 -= lowest_time #cuidado que se puede quedar negativo\n",
    "        #     if time_in1 < 0:\n",
    "        #         time_in1 = 0\n",
    "        #     time_in2 -= lowest_time\n",
    "        #     if time_in2 < 0:\n",
    "        #         time_in2 = 0\n",
    "        #     time_in3 -= lowest_time\n",
    "        #     if time_in3 < 0:\n",
    "        #         time_in3 = 0\n",
    "\n",
    "        #     if time_in1 == 0:\n",
    "        #         time1 += lowest_time #revisar estos\n",
    "        #         op1_state = 0\n",
    "        #         time_in1 += trains.wagons\n",
    "        #     if time_in2 == 0:\n",
    "        #         time2 += lowest_time\n",
    "        #         time_in2 += trains.wagons\n",
    "        #         op2_state = 0\n",
    "        #     if time_in3 == 0:\n",
    "        #         time3 += lowest_time\n",
    "        #         op3_state = 0\n",
    "        #         time_in3 += trains.wagons\n",
    "    value = max(time1, time2, time3) #esta parte se ve bien\n",
    "    return value, "
   ]
  },
  {
   "attachments": {},
   "cell_type": "markdown",
   "metadata": {},
   "source": [
    "La función de evalueción corregida"
   ]
  },
  {
   "cell_type": "code",
   "execution_count": 23,
   "metadata": {},
   "outputs": [],
   "source": [
    "def evaltrains2(individual):\n",
    "    time = 0\n",
    "    operations = {\"op1\": 0, \"op2\": 0, \"op3\": 0}\n",
    "    for trains in individual:\n",
    "        wagons = trains.wagons\n",
    "        if operations[trains.op] == 0: #si el muelle esta libre\n",
    "            operations[trains.op] = wagons #pues esta en espare hasta que termine\n",
    "        else:\n",
    "            time_in = operations[trains.op] #el teimpo de espera del muelle que toque\n",
    "            for k, v in operations.items():\n",
    "                #no puede haber operaciones con valores menores a 0\n",
    "                if v - time_in < 0: #si el tiempo espera es menor que el tiempo de espera del muelle, poner tiempo a 0, el tiempo no debería ser negativo\n",
    "                    operations[k] = 0\n",
    "                else:\n",
    "                    operations[k] -= time_in #si no, restar el tiempo de espera del muelle\n",
    "            time += time_in  #sumar el tiempo de espera del muelle\n",
    "            operations[trains.op] = wagons #meter el tren en el muelle tras haber esperado\n",
    "    time += max(operations.values()) #tardaremos el tiempo máximo entre todos los muelles\n",
    "    return time,"
   ]
  },
  {
   "cell_type": "code",
   "execution_count": 24,
   "metadata": {},
   "outputs": [],
   "source": [
    "def cxSet2(ind1, ind2):\n",
    "    cx_index = np.random.randint(len(ind1))\n",
    "\n",
    "    child1 = ind1[cx_index:]\n",
    "    child2 = ind2[cx_index:]\n",
    "\n",
    "    for x in ind2:\n",
    "        if x not in child1:\n",
    "            child1.append(x)\n",
    "\n",
    "    for x in ind1:\n",
    "        if x not in child2:\n",
    "            child2.append(x)\n",
    "\n",
    "    ind1[:] = child1\n",
    "    ind2[:] = child2\n",
    "    return ind1, ind2\n"
   ]
  },
  {
   "cell_type": "code",
   "execution_count": 25,
   "metadata": {},
   "outputs": [],
   "source": [
    "def get_group(ind1, ind1_left, ind2_right):\n",
    "    group = []\n",
    "    for x in ind1:\n",
    "        if x not in ind1_left and x not in ind2_right:\n",
    "            group.append(x)\n",
    "    return group"
   ]
  },
  {
   "cell_type": "code",
   "execution_count": 26,
   "metadata": {},
   "outputs": [],
   "source": [
    "def cxSet3(ind1, ind2):\n",
    "    cx_index = np.random.randint(len(ind1))\n",
    "\n",
    "    ind1_right = ind1[cx_index:]\n",
    "    ind2_right = ind2[cx_index:]\n",
    "    ind1_left = ind1[:cx_index]\n",
    "    ind2_left = ind2[:cx_index]\n",
    "\n",
    "    #elementos de ind1 que no estan en su parte izquierda(primer trozo) ni en la parte a discriminar de ind2\n",
    "    group1 = get_group(ind1, ind1_left, ind2_right)\n",
    "    #elementos de ind2 que no estan en su parte izquierda(primer trozo) ni en la parte a discriminar de ind1\n",
    "    group2 = get_group(ind2, ind2_left, ind1_right)\n",
    "    #Creamos un nuevo lado derecho de ind1 e ind2 en donde no esten los trenes que ya estan en el trozo izquierdo que vamos a usar\n",
    "    #y si no se cumple, rellenamos con un tren del individuo a tratar, los cuales si recogen las condiciones que queremos.\n",
    "    new_ind1_right = []\n",
    "    for x in ind2_right:\n",
    "        if x not in ind1_left:\n",
    "            new_ind1_right.append(x)\n",
    "        else:\n",
    "            new_ind1_right.append(group1.pop(0))\n",
    "\n",
    "    new_ind2_right = []\n",
    "    for x in ind1_right:\n",
    "        if x not in ind2_left:\n",
    "            new_ind2_right.append(x)\n",
    "        else:\n",
    "            new_ind2_right.append(group2.pop(0))\n",
    "\n",
    "    ind1[:] = ind1_left + new_ind2_right\n",
    "    ind2[:] = ind2_left + new_ind1_right\n",
    "    return ind1, ind2"
   ]
  },
  {
   "cell_type": "code",
   "execution_count": 27,
   "metadata": {},
   "outputs": [],
   "source": [
    "toolbox.register(\"evaluate\", evaltrains2)\n",
    "toolbox.register(\"mate\", cxSet3)\n",
    "toolbox.register(\"mutate\", tools.mutShuffleIndexes, indpb=0.05)\n",
    "toolbox.register(\"select\", tools.selTournament, tournsize=3)"
   ]
  },
  {
   "cell_type": "code",
   "execution_count": 28,
   "metadata": {},
   "outputs": [],
   "source": [
    "def main():\n",
    "    pop = toolbox.population(n=50)\n",
    "    hof = tools.ParetoFront()\n",
    "    stats = tools.Statistics(lambda ind: ind.fitness.values)\n",
    "    stats.register(\"avg\", np.mean, axis=0)\n",
    "    stats.register(\"std\", np.std, axis=0)\n",
    "    stats.register(\"min\", np.min, axis=0)\n",
    "    stats.register(\"max\", np.max, axis=0)\n",
    "\n",
    "    #algorithms.eaMuPlusLambda(pop, toolbox, MU, LAMBDA, CXPB, MUTPB, NGEN, stats, halloffame=hof)\n",
    "    algorithms.eaSimple(pop, toolbox, cxpb=0.5, mutpb=0.2, ngen=100, stats=stats, halloffame=hof, verbose=True)\n",
    "    return pop, stats, hof"
   ]
  },
  {
   "cell_type": "code",
   "execution_count": 29,
   "metadata": {},
   "outputs": [
    {
     "name": "stdout",
     "output_type": "stream",
     "text": [
      "gen\tnevals\tavg      \tstd         \tmin    \tmax    \n",
      "0  \t50    \t[1136.26]\t[51.2221866]\t[1027.]\t[1249.]\n",
      "1  \t27    \t[1097.78]\t[39.82978283]\t[1029.]\t[1210.]\n",
      "2  \t34    \t[1073.62]\t[38.23552798]\t[1014.]\t[1174.]\n",
      "3  \t22    \t[1050.8] \t[26.14651028]\t[1014.]\t[1124.]\n",
      "4  \t31    \t[1036.92]\t[19.20295811]\t[1003.]\t[1105.]\n",
      "5  \t39    \t[1034.68]\t[18.27177058]\t[1003.]\t[1102.]\n",
      "6  \t34    \t[1027.22]\t[13.2714581] \t[1003.]\t[1062.]\n",
      "7  \t18    \t[1023.18]\t[15.25213428]\t[996.] \t[1077.]\n",
      "8  \t29    \t[1019.54]\t[24.04097336]\t[980.] \t[1112.]\n",
      "9  \t33    \t[1016.12]\t[27.57509021]\t[981.] \t[1107.]\n",
      "10 \t25    \t[1004.32]\t[18.45257706]\t[946.] \t[1071.]\n",
      "11 \t24    \t[997.12] \t[21.26935824]\t[946.] \t[1055.]\n",
      "12 \t30    \t[992.12] \t[28.50448386]\t[927.] \t[1063.]\n",
      "13 \t35    \t[978.32] \t[26.46918208]\t[927.] \t[1060.]\n",
      "14 \t28    \t[966.98] \t[28.23153556]\t[927.] \t[1062.]\n",
      "15 \t30    \t[947.86] \t[18.62794675]\t[927.] \t[996.] \n",
      "16 \t29    \t[942.38] \t[23.69716439]\t[927.] \t[1030.]\n",
      "17 \t31    \t[933.94] \t[19.66052899]\t[927.] \t[1009.]\n",
      "18 \t29    \t[932.44] \t[18.69883419]\t[927.] \t[1021.]\n",
      "19 \t36    \t[934.62] \t[20.16520766]\t[927.] \t[1041.]\n",
      "20 \t28    \t[937.68] \t[20.3346404] \t[925.] \t[1009.]\n",
      "21 \t23    \t[931.06] \t[14.50849406]\t[925.] \t[1003.]\n",
      "22 \t31    \t[936.78] \t[25.17084822]\t[921.] \t[1041.]\n",
      "23 \t26    \t[944.24] \t[32.41824178]\t[921.] \t[1067.]\n",
      "24 \t30    \t[932.18] \t[20.08152385]\t[921.] \t[1032.]\n",
      "25 \t34    \t[935.28] \t[22.60357494]\t[921.] \t[1008.]\n",
      "26 \t32    \t[943.04] \t[34.43542362]\t[897.] \t[1046.]\n",
      "27 \t24    \t[936.78] \t[28.98709368]\t[897.] \t[1021.]\n",
      "28 \t23    \t[924.88] \t[20.50428248]\t[897.] \t[1035.]\n",
      "29 \t35    \t[928.08] \t[22.06521244]\t[897.] \t[993.] \n",
      "30 \t37    \t[929.5]  \t[34.26674773]\t[897.] \t[1077.]\n",
      "31 \t29    \t[918.54] \t[31.88555159]\t[897.] \t[1031.]\n",
      "32 \t37    \t[916.92] \t[37.02747088]\t[895.] \t[1030.]\n",
      "33 \t23    \t[911.36] \t[29.0528897] \t[895.] \t[993.] \n",
      "34 \t34    \t[909.58] \t[24.77828888]\t[895.] \t[987.] \n",
      "35 \t23    \t[906.16] \t[26.46383192]\t[895.] \t[1002.]\n",
      "36 \t34    \t[901.66] \t[17.7961906] \t[880.] \t[965.] \n",
      "37 \t23    \t[905.36] \t[27.3157537] \t[880.] \t[1019.]\n",
      "38 \t35    \t[903.94] \t[25.17888798]\t[880.] \t[987.] \n",
      "39 \t32    \t[893.08] \t[8.56700648] \t[880.] \t[925.] \n",
      "40 \t30    \t[906.38] \t[37.50620749]\t[880.] \t[1015.]\n",
      "41 \t30    \t[898.76] \t[32.62916487]\t[880.] \t[986.] \n",
      "42 \t25    \t[892.18] \t[29.16277765]\t[880.] \t[1022.]\n",
      "43 \t27    \t[891.]   \t[28.01642375]\t[872.] \t[1012.]\n",
      "44 \t30    \t[900.94] \t[40.9709214] \t[872.] \t[1064.]\n",
      "45 \t31    \t[897.98] \t[36.54010947]\t[872.] \t[1026.]\n",
      "46 \t25    \t[882.02] \t[19.09920417]\t[872.] \t[962.] \n",
      "47 \t28    \t[879.32] \t[19.68495872]\t[872.] \t[969.] \n",
      "48 \t24    \t[885.78] \t[28.42554485]\t[872.] \t[983.] \n",
      "49 \t30    \t[892.14] \t[41.16843937]\t[872.] \t[1017.]\n",
      "50 \t28    \t[887.94] \t[32.57508864]\t[872.] \t[986.] \n",
      "51 \t37    \t[883.82] \t[30.62070541]\t[872.] \t[1003.]\n",
      "52 \t27    \t[892.76] \t[37.50069866]\t[872.] \t[994.] \n",
      "53 \t22    \t[882.52] \t[27.19135157]\t[872.] \t[984.] \n",
      "54 \t22    \t[884.1]  \t[28.33813685]\t[872.] \t[975.] \n",
      "55 \t36    \t[883.58] \t[28.67758009]\t[872.] \t[996.] \n",
      "56 \t31    \t[891.32] \t[37.78753234]\t[872.] \t[1022.]\n",
      "57 \t32    \t[891.1]  \t[40.33224516]\t[872.] \t[1030.]\n",
      "58 \t32    \t[881.52] \t[29.5812373] \t[871.] \t[1002.]\n",
      "59 \t30    \t[882.14] \t[26.48245457]\t[871.] \t[984.] \n",
      "60 \t24    \t[883.8]  \t[30.16819517]\t[872.] \t[1003.]\n",
      "61 \t22    \t[877.94] \t[18.27064312]\t[872.] \t[975.] \n",
      "62 \t31    \t[885.52] \t[29.85916275]\t[872.] \t[1006.]\n",
      "63 \t26    \t[884.5]  \t[31.81776233]\t[870.] \t[1029.]\n",
      "64 \t36    \t[887.46] \t[33.30297885]\t[870.] \t[1026.]\n",
      "65 \t16    \t[887.94] \t[34.53138283]\t[870.] \t[1005.]\n",
      "66 \t27    \t[879.74] \t[27.84371383]\t[870.] \t[1006.]\n",
      "67 \t27    \t[884.64] \t[31.46919764]\t[866.] \t[1004.]\n",
      "68 \t27    \t[884.42] \t[29.10057731]\t[866.] \t[986.] \n",
      "69 \t30    \t[878.2]  \t[24.04828476]\t[866.] \t[971.] \n",
      "70 \t27    \t[885.7]  \t[40.6030787] \t[866.] \t[1063.]\n",
      "71 \t35    \t[874.72] \t[24.55201825]\t[861.] \t[1005.]\n",
      "72 \t26    \t[880.52] \t[34.49303698]\t[861.] \t[1001.]\n",
      "73 \t25    \t[872.4]  \t[25.60546817]\t[861.] \t[979.] \n",
      "74 \t37    \t[890.18] \t[49.70500578]\t[861.] \t[1025.]\n",
      "75 \t26    \t[874.42] \t[34.44537124]\t[861.] \t[1038.]\n",
      "76 \t28    \t[870.12] \t[21.4034016] \t[860.] \t[979.] \n",
      "77 \t34    \t[875.3]  \t[31.87051929]\t[860.] \t[1013.]\n",
      "78 \t38    \t[870.8]  \t[29.15681738]\t[860.] \t[1027.]\n",
      "79 \t19    \t[871.16] \t[23.49243282]\t[860.] \t[950.] \n",
      "80 \t33    \t[871.54] \t[26.09920305]\t[859.] \t[978.] \n",
      "81 \t25    \t[870.02] \t[27.79963309]\t[860.] \t[992.] \n",
      "82 \t35    \t[863.92] \t[12.36905817]\t[860.] \t[914.] \n",
      "83 \t21    \t[874.16] \t[33.14112853]\t[860.] \t[1001.]\n",
      "84 \t27    \t[877.14] \t[36.422526]  \t[860.] \t[1012.]\n",
      "85 \t37    \t[871.14] \t[28.70262009]\t[860.] \t[990.] \n",
      "86 \t32    \t[870.36] \t[24.49551796]\t[860.] \t[974.] \n",
      "87 \t34    \t[878.82] \t[38.44564475]\t[860.] \t[1015.]\n",
      "88 \t29    \t[874.62] \t[32.97022293]\t[860.] \t[1000.]\n",
      "89 \t36    \t[879.74] \t[40.39346977]\t[860.] \t[1041.]\n",
      "90 \t31    \t[867.02] \t[24.64669552]\t[860.] \t[1008.]\n",
      "91 \t32    \t[871.62] \t[28.79714569]\t[860.] \t[973.] \n",
      "92 \t39    \t[869.74] \t[23.61424147]\t[860.] \t[951.] \n",
      "93 \t30    \t[877.04] \t[39.01382319]\t[860.] \t[1010.]\n",
      "94 \t33    \t[872.8]  \t[37.10687268]\t[860.] \t[1070.]\n",
      "95 \t28    \t[871.16] \t[29.68929774]\t[859.] \t[982.] \n",
      "96 \t31    \t[872.12] \t[30.99783218]\t[859.] \t[983.] \n",
      "97 \t21    \t[872.9]  \t[36.08392994]\t[859.] \t[1030.]\n",
      "98 \t22    \t[865.92] \t[24.68265788]\t[858.] \t[1008.]\n",
      "99 \t23    \t[871.92] \t[29.06670948]\t[858.] \t[961.] \n",
      "100\t28    \t[870.5]  \t[26.17575214]\t[858.] \t[953.] \n"
     ]
    }
   ],
   "source": [
    "pop, stats, hof = main()"
   ]
  },
  {
   "cell_type": "code",
   "execution_count": 30,
   "metadata": {},
   "outputs": [
    {
     "name": "stdout",
     "output_type": "stream",
     "text": [
      "el tiempo mínimo será:  811\n",
      "el tiempo del algoritmo será:  858.0\n"
     ]
    }
   ],
   "source": [
    "#calculate the time of the initial trains list\n",
    "time_of_operations = {\"op1\": 0, \"op2\": 0, \"op3\": 0}\n",
    "for i in trains:\n",
    "    time_of_operations[i.op] += i.wagons\n",
    "print(\"el tiempo mínimo será: \",max(time_of_operations[\"op1\"], time_of_operations[\"op2\"], time_of_operations[\"op3\"]))\n",
    "print(\"el tiempo del algoritmo será: \",hof[0].fitness.values[0])\n"
   ]
  },
  {
   "attachments": {},
   "cell_type": "markdown",
   "metadata": {},
   "source": [
    "Miramos que no hayan trenes repetidos"
   ]
  },
  {
   "cell_type": "code",
   "execution_count": 31,
   "metadata": {},
   "outputs": [
    {
     "name": "stdout",
     "output_type": "stream",
     "text": [
      "Número de trenes:  100\n",
      "100\n",
      "[34, 19, 59, 5, 29, 27, 40, 98, 63, 11, 10, 50, 20, 6, 35, 31, 51, 15, 9, 64, 88, 18, 3, 36, 89, 25, 1, 82, 38, 96, 37, 67, 78, 83, 32, 85, 57, 33, 54, 48, 95, 49, 72, 12, 79, 30, 73, 71, 77, 55, 0, 45, 66, 56, 65, 61, 43, 47, 90, 52, 62, 2, 87, 13, 84, 70, 80, 4, 68, 81, 23, 94, 92, 28, 91, 24, 14, 93, 97, 53, 60, 86, 41, 75, 46, 21, 8, 39, 44, 7, 74, 76, 16, 22, 17, 69, 42, 58, 99, 26]\n"
     ]
    }
   ],
   "source": [
    "licence_plates = []\n",
    "for t in hof[0]:\n",
    "    licence_plates.append(t.licence_plate)\n",
    "    \n",
    "print(\"Número de trenes: \", len(hof[0]))\n",
    "print(len(licence_plates))\n",
    "print(licence_plates)"
   ]
  },
  {
   "attachments": {},
   "cell_type": "markdown",
   "metadata": {},
   "source": [
    "Miramos cual es la configuración de trenes que menos tiempo tarda en pasar"
   ]
  },
  {
   "cell_type": "code",
   "execution_count": 32,
   "metadata": {},
   "outputs": [
    {
     "name": "stdout",
     "output_type": "stream",
     "text": [
      "[0, 1, 2, 3, 4, 5, 6, 7, 8, 9, 10, 11, 12, 13, 14, 15, 16, 17, 18, 19, 20, 21, 22, 23, 24, 25, 26, 27, 28, 29, 30, 31, 32, 33, 34, 35, 36, 37, 38, 39, 40, 41, 42, 43, 44, 45, 46, 47, 48, 49, 50, 51, 52, 53, 54, 55, 56, 57, 58, 59, 60, 61, 62, 63, 64, 65, 66, 67, 68, 69, 70, 71, 72, 73, 74, 75, 76, 77, 78, 79, 80, 81, 82, 83, 84, 85, 86, 87, 88, 89, 90, 91, 92, 93, 94, 95, 96, 97, 98, 99]\n",
      "100\n",
      "100\n"
     ]
    }
   ],
   "source": [
    "licencias = []\n",
    "for i in hof[0]:\n",
    "    licencias.append(i.licence_plate)\n",
    "print(sorted(licencias))\n",
    "print(len(licencias))\n",
    "print(len(set(licencias)))"
   ]
  }
 ],
 "metadata": {
  "kernelspec": {
   "display_name": "Python 3",
   "language": "python",
   "name": "python3"
  },
  "language_info": {
   "codemirror_mode": {
    "name": "ipython",
    "version": 3
   },
   "file_extension": ".py",
   "mimetype": "text/x-python",
   "name": "python",
   "nbconvert_exporter": "python",
   "pygments_lexer": "ipython3",
   "version": "3.9.13"
  }
 },
 "nbformat": 4,
 "nbformat_minor": 4
}
