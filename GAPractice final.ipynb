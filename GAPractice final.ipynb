{
 "cells": [
  {
   "attachments": {},
   "cell_type": "markdown",
   "metadata": {},
   "source": [
    "# Práctica sobre algoritmos genéticos\n",
    "\n",
    "<img src=\"imgs/tren.jpg\">\n",
    "\n",
    "\n",
    "Un área ferroviaria de carga/descarga con una única vía de entrada y otra salida se compone de tres muelles de carga/descarga: Op1, Op2 y Op3, correspondientes a contenedores, carbón y gas. Por tanto, cada tren que llega se dirige a un muelle en función de su carga. Un tren tarda en cargar o descargar un tiempo proporcional al número de vagones que arrastra. Cada día llegan secuencialmente n trenes. Si los trenes son de cargas distintas, pueden entrar en paralelo a los muelles. Cuando dos trenes con el mismo tipo de carga se encuentran seguidos, el segundo debe esperar por el primero, así como todos los demás que se encuentren por detrás.\n",
    "\n",
    "\n",
    "Se nos plantea resolver, mediante un algoritmo genético, el problema de la ordenación en la entrada de los trenes para minimizar el tiempo de paso del conjunto de trenes.\n",
    "\n",
    "\n",
    "<img src=\"imgs/docks.jpg\" width=\"70%\">"
   ]
  },
  {
   "cell_type": "code",
   "execution_count": 33,
   "metadata": {},
   "outputs": [],
   "source": [
    "import random\n",
    "import numpy as np\n",
    "from deap import base, creator, tools, algorithms"
   ]
  },
  {
   "attachments": {},
   "cell_type": "markdown",
   "metadata": {},
   "source": [
    "## Trenes\n",
    "\n",
    "En el siguiente código, <code>random_trains_generation</code> genera los trenes que llegarán en un día. Cada ordenación diferente de este conjunto corresponderá con un **individuo** en nuestro eaquema de algoritmo genético."
   ]
  },
  {
   "cell_type": "code",
   "execution_count": 34,
   "metadata": {},
   "outputs": [],
   "source": [
    "import random\n",
    "from deap import base, creator, tools\n",
    "\n",
    "class Train:\n",
    "    def __init__(self, wagons, op, licence_plate):\n",
    "        self.wagons = wagons\n",
    "        self.op = op\n",
    "        self.licence_plate = licence_plate\n",
    "\n",
    "    def __str__(self):\n",
    "        return \"Número de vagones:\" + str(self.wagons) \\\n",
    "        + \"\\n\" + \"Muelle de operaciones:\" + str(self.op) \\\n",
    "        + \"\\n\" + \"Matrícula:\" + str(self.licence_plate)\n",
    "\n",
    "\n",
    "def random_trains_generation(n):\n",
    "\n",
    "    train_list = []\n",
    "    \n",
    "    for i in range(n):\n",
    "        wagons = random.randint(10, 30)  # Cada tren puede arrastrar entre 10 y 30 vagones\n",
    "        op = random.choice([\"op1\", \"op2\", \"op3\"])  # A cada tren se le asigna un tipo de carga\n",
    "        train_list.append(Train(wagons, op, i))\n",
    "\n",
    "    return train_list"
   ]
  },
  {
   "cell_type": "code",
   "execution_count": 35,
   "metadata": {},
   "outputs": [],
   "source": [
    "trains = random_trains_generation(100)\n",
    "def randomize_trains():\n",
    "    new_trains = trains[:]\n",
    "    random.shuffle(new_trains)\n",
    "    return new_trains\n",
    "\n",
    "#creamos una clase de tipo lista que implemente la funcion anterior y devuelva una lista de trenes aleatoria\n",
    "class Trains_list(list):\n",
    "    def __init__(self):\n",
    "        super().__init__(randomize_trains())"
   ]
  },
  {
   "cell_type": "code",
   "execution_count": 36,
   "metadata": {},
   "outputs": [],
   "source": [
    "creator.create(\"Fitness\", base.Fitness, weights=(-1.0, )) \n",
    "creator.create(\"Individual\", Trains_list, fitness=creator.Fitness)"
   ]
  },
  {
   "cell_type": "code",
   "execution_count": 37,
   "metadata": {},
   "outputs": [],
   "source": [
    "toolbox = base.Toolbox()\n",
    "toolbox.register(\"individual\", creator.Individual)\n",
    "toolbox.register(\"population\", tools.initRepeat, list, toolbox.individual)"
   ]
  },
  {
   "attachments": {},
   "cell_type": "markdown",
   "metadata": {},
   "source": [
    "La función de evalueción corregida"
   ]
  },
  {
   "cell_type": "code",
   "execution_count": 38,
   "metadata": {},
   "outputs": [],
   "source": [
    "def evaltrains2(individual):\n",
    "    time = 0\n",
    "    operations = {\"op1\": 0, \"op2\": 0, \"op3\": 0}\n",
    "    for trains in individual:\n",
    "        wagons = trains.wagons\n",
    "        if operations[trains.op] == 0: #si el muelle esta libre\n",
    "            operations[trains.op] = wagons #pues esta en espare hasta que termine\n",
    "        else:\n",
    "            time_in = operations[trains.op] #el teimpo de espera del muelle que toque\n",
    "            for k, v in operations.items():\n",
    "                #no puede haber operaciones con valores menores a 0\n",
    "                if v - time_in < 0: #si el tiempo espera es menor que el tiempo de espera del muelle, poner tiempo a 0, el tiempo no debería ser negativo\n",
    "                    operations[k] = 0\n",
    "                else:\n",
    "                    operations[k] -= time_in #si no, restar el tiempo de espera del muelle\n",
    "            time += time_in  #sumar el tiempo de espera del muelle\n",
    "            operations[trains.op] = wagons #meter el tren en el muelle tras haber esperado\n",
    "    time += max(operations.values()) #tardaremos el tiempo máximo entre todos los muelles\n",
    "    return time,"
   ]
  },
  {
   "cell_type": "code",
   "execution_count": 39,
   "metadata": {},
   "outputs": [],
   "source": [
    "def cxSet2(ind1, ind2):\n",
    "    cx_index = np.random.randint(len(ind1))\n",
    "\n",
    "    child1 = ind1[cx_index:]\n",
    "    child2 = ind2[cx_index:]\n",
    "\n",
    "    for x in ind2:\n",
    "        if x not in child1:\n",
    "            child1.append(x)\n",
    "\n",
    "    for x in ind1:\n",
    "        if x not in child2:\n",
    "            child2.append(x)\n",
    "\n",
    "    ind1[:] = child1\n",
    "    ind2[:] = child2\n",
    "    return ind1, ind2\n"
   ]
  },
  {
   "cell_type": "code",
   "execution_count": 40,
   "metadata": {},
   "outputs": [],
   "source": [
    "def get_group(ind1, ind1_left, ind2_right):\n",
    "    group = []\n",
    "    for x in ind1:\n",
    "        if x not in ind1_left and x not in ind2_right:\n",
    "            group.append(x)\n",
    "    return group"
   ]
  },
  {
   "cell_type": "code",
   "execution_count": 41,
   "metadata": {},
   "outputs": [],
   "source": [
    "def cxSet3(ind1, ind2):\n",
    "    cx_index = np.random.randint(len(ind1))\n",
    "\n",
    "    ind1_right = ind1[cx_index:]\n",
    "    ind2_right = ind2[cx_index:]\n",
    "    ind1_left = ind1[:cx_index]\n",
    "    ind2_left = ind2[:cx_index]\n",
    "\n",
    "    #elementos de ind1 que no estan en su parte izquierda(primer trozo) ni en la parte a discriminar de ind2\n",
    "    group1 = get_group(ind1, ind1_left, ind2_right)\n",
    "    #elementos de ind2 que no estan en su parte izquierda(primer trozo) ni en la parte a discriminar de ind1\n",
    "    group2 = get_group(ind2, ind2_left, ind1_right)\n",
    "    #Creamos un nuevo lado derecho de ind1 e ind2 en donde no esten los trenes que ya estan en el trozo izquierdo que vamos a usar\n",
    "    #y si no se cumple, rellenamos con un tren del individuo a tratar, los cuales si recogen las condiciones que queremos.\n",
    "    new_ind1_right = []\n",
    "    for x in ind2_right:\n",
    "        if x not in ind1_left:\n",
    "            new_ind1_right.append(x)\n",
    "        else:\n",
    "            new_ind1_right.append(group1.pop(0))\n",
    "\n",
    "    new_ind2_right = []\n",
    "    for x in ind1_right:\n",
    "        if x not in ind2_left:\n",
    "            new_ind2_right.append(x)\n",
    "        else:\n",
    "            new_ind2_right.append(group2.pop(0))\n",
    "\n",
    "    ind1[:] = ind1_left + new_ind2_right\n",
    "    ind2[:] = ind2_left + new_ind1_right\n",
    "    return ind1, ind2"
   ]
  },
  {
   "cell_type": "code",
   "execution_count": 42,
   "metadata": {},
   "outputs": [],
   "source": [
    "toolbox.register(\"evaluate\", evaltrains2)\n",
    "toolbox.register(\"mate\", cxSet3)\n",
    "toolbox.register(\"mutate\", tools.mutShuffleIndexes, indpb=0.05)\n",
    "toolbox.register(\"select\", tools.selTournament, tournsize=3)"
   ]
  },
  {
   "cell_type": "code",
   "execution_count": 43,
   "metadata": {},
   "outputs": [],
   "source": [
    "def main():\n",
    "    pop = toolbox.population(n=50)\n",
    "    hof = tools.ParetoFront()\n",
    "    stats = tools.Statistics(lambda ind: ind.fitness.values)\n",
    "    stats.register(\"avg\", np.mean, axis=0)\n",
    "    stats.register(\"std\", np.std, axis=0)\n",
    "    stats.register(\"min\", np.min, axis=0)\n",
    "    stats.register(\"max\", np.max, axis=0)\n",
    "\n",
    "    #algorithms.eaMuPlusLambda(pop, toolbox, MU, LAMBDA, CXPB, MUTPB, NGEN, stats, halloffame=hof)\n",
    "    algorithms.eaSimple(pop, toolbox, cxpb=0.5, mutpb=0.2, ngen=100, stats=stats, halloffame=hof, verbose=True)\n",
    "    return pop, stats, hof"
   ]
  },
  {
   "cell_type": "code",
   "execution_count": 44,
   "metadata": {},
   "outputs": [
    {
     "name": "stdout",
     "output_type": "stream",
     "text": [
      "gen\tnevals\tavg      \tstd          \tmin   \tmax    \n",
      "0  \t50    \t[1125.26]\t[51.64331903]\t[999.]\t[1228.]\n",
      "1  \t34    \t[1078.18]\t[39.13345883]\t[999.]\t[1152.]\n",
      "2  \t28    \t[1044.1] \t[28.76612591]\t[999.]\t[1141.]\n",
      "3  \t22    \t[1024.24]\t[19.31482332]\t[998.]\t[1080.]\n",
      "4  \t22    \t[1007.32]\t[17.30715459]\t[945.]\t[1036.]\n",
      "5  \t36    \t[1002.6] \t[19.43090322]\t[960.]\t[1070.]\n",
      "6  \t36    \t[997.14] \t[19.3690578] \t[960.]\t[1046.]\n",
      "7  \t28    \t[988.12] \t[18.92262138]\t[960.]\t[1052.]\n",
      "8  \t36    \t[984.62] \t[29.24235969]\t[950.]\t[1075.]\n",
      "9  \t26    \t[975.82] \t[25.27978639]\t[927.]\t[1066.]\n",
      "10 \t24    \t[965.88] \t[27.39827732]\t[927.]\t[1097.]\n",
      "11 \t28    \t[958.72] \t[26.51719442]\t[927.]\t[1074.]\n",
      "12 \t37    \t[951.38] \t[34.13613335]\t[926.]\t[1090.]\n",
      "13 \t27    \t[944.02] \t[31.95089357]\t[920.]\t[1072.]\n",
      "14 \t25    \t[939.08] \t[26.69744557]\t[919.]\t[1034.]\n",
      "15 \t32    \t[940.02] \t[25.3672939] \t[919.]\t[1018.]\n",
      "16 \t36    \t[932.48] \t[16.86919085]\t[919.]\t[995.] \n",
      "17 \t28    \t[929.34] \t[16.53554958]\t[919.]\t[1007.]\n",
      "18 \t35    \t[925.44] \t[13.09986259]\t[919.]\t[980.] \n",
      "19 \t28    \t[929.62] \t[23.98990621]\t[919.]\t[1055.]\n",
      "20 \t31    \t[927.08] \t[25.95599353]\t[919.]\t[1045.]\n",
      "21 \t25    \t[923.96] \t[14.23932583]\t[916.]\t[992.] \n",
      "22 \t23    \t[928.26] \t[28.72755472]\t[906.]\t[1069.]\n",
      "23 \t25    \t[925.04] \t[24.63165443]\t[906.]\t[1058.]\n",
      "24 \t38    \t[931.78] \t[27.86703429]\t[886.]\t[1007.]\n",
      "25 \t35    \t[924.4]  \t[30.52343362]\t[886.]\t[1026.]\n",
      "26 \t35    \t[918.4]  \t[28.38732111]\t[886.]\t[1026.]\n",
      "27 \t25    \t[909.08] \t[25.69578954]\t[885.]\t[983.] \n",
      "28 \t19    \t[901.74] \t[23.81916035]\t[885.]\t[1006.]\n",
      "29 \t34    \t[896.96] \t[26.78578728]\t[886.]\t[1017.]\n",
      "30 \t27    \t[894.98] \t[26.07104908]\t[886.]\t[1031.]\n",
      "31 \t27    \t[899.66] \t[30.70284026]\t[874.]\t[1014.]\n",
      "32 \t31    \t[891.58] \t[18.32821868]\t[874.]\t[965.] \n",
      "33 \t30    \t[892.54] \t[20.58563577]\t[874.]\t[954.] \n",
      "34 \t36    \t[890.8]  \t[20.02198791]\t[874.]\t[953.] \n",
      "35 \t30    \t[888.74] \t[25.13627657]\t[874.]\t[974.] \n",
      "36 \t29    \t[889.84] \t[35.1530141] \t[864.]\t[1040.]\n",
      "37 \t36    \t[881.72] \t[24.05995844]\t[864.]\t[996.] \n",
      "38 \t25    \t[881.48] \t[30.66348969]\t[858.]\t[1011.]\n",
      "39 \t30    \t[870.88] \t[13.29908268]\t[858.]\t[925.] \n",
      "40 \t36    \t[874.26] \t[25.83626134]\t[852.]\t[963.] \n",
      "41 \t35    \t[876.76] \t[34.26517766]\t[852.]\t[1038.]\n",
      "42 \t33    \t[870.96] \t[23.28]      \t[852.]\t[953.] \n",
      "43 \t24    \t[871.64] \t[32.02796278]\t[818.]\t[993.] \n",
      "44 \t23    \t[863.44] \t[25.18663137]\t[818.]\t[945.] \n",
      "45 \t23    \t[856.24] \t[29.95033222]\t[818.]\t[954.] \n",
      "46 \t35    \t[857.24] \t[37.07428219]\t[818.]\t[976.] \n",
      "47 \t30    \t[845.7]  \t[38.7]       \t[818.]\t[1046.]\n",
      "48 \t29    \t[834.08] \t[25.92592525]\t[818.]\t[924.] \n",
      "49 \t37    \t[833.18] \t[34.43410519]\t[818.]\t[957.] \n",
      "50 \t27    \t[836.52] \t[34.28658047]\t[818.]\t[951.] \n",
      "51 \t29    \t[839.1]  \t[38.22525343]\t[818.]\t[986.] \n",
      "52 \t25    \t[835.44] \t[34.9554917] \t[818.]\t[964.] \n",
      "53 \t32    \t[833.74] \t[34.76424025]\t[813.]\t[981.] \n",
      "54 \t31    \t[832.28] \t[37.23226558]\t[813.]\t[1000.]\n",
      "55 \t30    \t[831.52] \t[31.78127751]\t[813.]\t[951.] \n",
      "56 \t41    \t[836.28] \t[36.03223002]\t[813.]\t[944.] \n",
      "57 \t40    \t[833.3]  \t[36.28346731]\t[813.]\t[959.] \n",
      "58 \t36    \t[830.46] \t[34.57872756]\t[813.]\t[932.] \n",
      "59 \t33    \t[834.3]  \t[42.044857]  \t[813.]\t[993.] \n",
      "60 \t32    \t[824.08] \t[25.78126452]\t[813.]\t[918.] \n",
      "61 \t33    \t[827.02] \t[32.79420071]\t[813.]\t[930.] \n",
      "62 \t25    \t[822.84] \t[29.7834585] \t[813.]\t[971.] \n",
      "63 \t29    \t[825.32] \t[33.02086613]\t[813.]\t[960.] \n",
      "64 \t31    \t[827.44] \t[33.80541968]\t[813.]\t[962.] \n",
      "65 \t32    \t[836.54] \t[42.51597817]\t[813.]\t[945.] \n",
      "66 \t29    \t[831.06] \t[34.36533719]\t[811.]\t[956.] \n",
      "67 \t21    \t[825.54] \t[29.08759873]\t[810.]\t[935.] \n",
      "68 \t30    \t[827.52] \t[30.10265105]\t[810.]\t[927.] \n",
      "69 \t39    \t[830.28] \t[33.45925283]\t[810.]\t[924.] \n",
      "70 \t32    \t[829.24] \t[38.50431664]\t[810.]\t[969.] \n",
      "71 \t28    \t[815.78] \t[17.44051605]\t[810.]\t[882.] \n",
      "72 \t29    \t[822.82] \t[31.69964669]\t[810.]\t[951.] \n",
      "73 \t35    \t[818.74] \t[21.56646471]\t[810.]\t[904.] \n",
      "74 \t29    \t[824.94] \t[39.5400607] \t[810.]\t[1017.]\n",
      "75 \t34    \t[828.3]  \t[40.8305033] \t[805.]\t[960.] \n",
      "76 \t39    \t[829.1]  \t[37.19099353]\t[805.]\t[944.] \n",
      "77 \t32    \t[827.04] \t[35.2822675] \t[805.]\t[944.] \n",
      "78 \t33    \t[827.36] \t[37.34528618]\t[805.]\t[965.] \n",
      "79 \t28    \t[818.76] \t[28.71832864]\t[805.]\t[921.] \n",
      "80 \t33    \t[822.06] \t[41.35572995]\t[805.]\t[969.] \n",
      "81 \t31    \t[823.12] \t[36.97168646]\t[805.]\t[958.] \n",
      "82 \t28    \t[829.7]  \t[42.31040061]\t[805.]\t[957.] \n",
      "83 \t37    \t[818.4]  \t[27.18013981]\t[805.]\t[910.] \n",
      "84 \t28    \t[822.72] \t[35.00687932]\t[805.]\t[938.] \n",
      "85 \t36    \t[812.82] \t[23.8157007] \t[805.]\t[901.] \n",
      "86 \t35    \t[821.1]  \t[36.92275721]\t[805.]\t[977.] \n",
      "87 \t30    \t[821.48] \t[38.56331936]\t[805.]\t[968.] \n",
      "88 \t26    \t[815.5]  \t[25.95630944]\t[805.]\t[940.] \n",
      "89 \t28    \t[829.58] \t[53.53170649]\t[805.]\t[1019.]\n",
      "90 \t35    \t[820.46] \t[37.64370332]\t[805.]\t[997.] \n",
      "91 \t29    \t[818.28] \t[32.66131657]\t[805.]\t[929.] \n",
      "92 \t33    \t[811.42] \t[17.1371993] \t[805.]\t[880.] \n",
      "93 \t28    \t[816.18] \t[27.84147266]\t[805.]\t[922.] \n",
      "94 \t34    \t[825.]   \t[43.29156962]\t[805.]\t[970.] \n",
      "95 \t30    \t[822.84] \t[32.61923359]\t[805.]\t[938.] \n",
      "96 \t33    \t[822.24] \t[34.99860569]\t[799.]\t[950.] \n",
      "97 \t27    \t[824.86] \t[38.75048903]\t[799.]\t[934.] \n",
      "98 \t33    \t[820.42] \t[33.61314624]\t[799.]\t[932.] \n",
      "99 \t30    \t[818.14] \t[30.9224902] \t[799.]\t[928.] \n",
      "100\t30    \t[812.82] \t[29.34667954]\t[799.]\t[938.] \n"
     ]
    }
   ],
   "source": [
    "pop, stats, hof = main()"
   ]
  },
  {
   "cell_type": "code",
   "execution_count": 45,
   "metadata": {},
   "outputs": [
    {
     "name": "stdout",
     "output_type": "stream",
     "text": [
      "el tiempo mínimo será:  731\n",
      "el tiempo del algoritmo será:  799.0\n"
     ]
    }
   ],
   "source": [
    "#calculate the time of the initial trains list\n",
    "time_of_operations = {\"op1\": 0, \"op2\": 0, \"op3\": 0}\n",
    "for i in trains:\n",
    "    time_of_operations[i.op] += i.wagons\n",
    "print(\"el tiempo mínimo será: \",max(time_of_operations[\"op1\"], time_of_operations[\"op2\"], time_of_operations[\"op3\"]))\n",
    "print(\"el tiempo del algoritmo será: \",hof[0].fitness.values[0])\n"
   ]
  },
  {
   "attachments": {},
   "cell_type": "markdown",
   "metadata": {},
   "source": [
    "Miramos que no hayan trenes repetidos"
   ]
  },
  {
   "cell_type": "code",
   "execution_count": 46,
   "metadata": {},
   "outputs": [
    {
     "name": "stdout",
     "output_type": "stream",
     "text": [
      "Número de trenes:  100\n",
      "100\n",
      "[48, 14, 72, 71, 50, 33, 19, 18, 77, 94, 25, 73, 36, 68, 0, 81, 38, 91, 12, 31, 40, 57, 79, 69, 80, 54, 82, 59, 83, 4, 76, 22, 3, 74, 24, 35, 64, 67, 42, 29, 39, 55, 8, 47, 70, 84, 44, 78, 99, 21, 13, 98, 7, 90, 26, 6, 49, 65, 52, 1, 46, 87, 20, 5, 15, 10, 88, 56, 96, 34, 41, 28, 62, 9, 17, 27, 30, 89, 86, 93, 45, 75, 2, 92, 97, 37, 53, 16, 11, 58, 51, 61, 66, 32, 85, 63, 60, 43, 23, 95]\n"
     ]
    }
   ],
   "source": [
    "licence_plates = []\n",
    "for t in hof[0]:\n",
    "    licence_plates.append(t.licence_plate)\n",
    "    \n",
    "print(\"Número de trenes: \", len(hof[0]))\n",
    "print(len(licence_plates))\n",
    "print(licence_plates)"
   ]
  },
  {
   "attachments": {},
   "cell_type": "markdown",
   "metadata": {},
   "source": [
    "Miramos cual es la configuración de trenes que menos tiempo tarda en pasar"
   ]
  },
  {
   "cell_type": "code",
   "execution_count": 47,
   "metadata": {},
   "outputs": [
    {
     "name": "stdout",
     "output_type": "stream",
     "text": [
      "[0, 1, 2, 3, 4, 5, 6, 7, 8, 9, 10, 11, 12, 13, 14, 15, 16, 17, 18, 19, 20, 21, 22, 23, 24, 25, 26, 27, 28, 29, 30, 31, 32, 33, 34, 35, 36, 37, 38, 39, 40, 41, 42, 43, 44, 45, 46, 47, 48, 49, 50, 51, 52, 53, 54, 55, 56, 57, 58, 59, 60, 61, 62, 63, 64, 65, 66, 67, 68, 69, 70, 71, 72, 73, 74, 75, 76, 77, 78, 79, 80, 81, 82, 83, 84, 85, 86, 87, 88, 89, 90, 91, 92, 93, 94, 95, 96, 97, 98, 99]\n",
      "100\n",
      "100\n"
     ]
    }
   ],
   "source": [
    "licencias = []\n",
    "for i in hof[0]:\n",
    "    licencias.append(i.licence_plate)\n",
    "print(sorted(licencias))\n",
    "print(len(licencias))\n",
    "print(len(set(licencias)))"
   ]
  }
 ],
 "metadata": {
  "kernelspec": {
   "display_name": "Python 3",
   "language": "python",
   "name": "python3"
  },
  "language_info": {
   "codemirror_mode": {
    "name": "ipython",
    "version": 3
   },
   "file_extension": ".py",
   "mimetype": "text/x-python",
   "name": "python",
   "nbconvert_exporter": "python",
   "pygments_lexer": "ipython3",
   "version": "3.9.13"
  }
 },
 "nbformat": 4,
 "nbformat_minor": 4
}
